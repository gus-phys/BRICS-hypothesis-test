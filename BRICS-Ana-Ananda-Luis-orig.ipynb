{
 "cells": [
  {
   "cell_type": "markdown",
   "metadata": {},
   "source": [
    "# Trabalho em grupo - Ana Luisa, Ananda e Luis\n",
    "\n",
    "## - HIPOTESE: Como a economia afeta o setor publico e privado de maneiras diferentes\n",
    "\n",
    "## - Dataset: [BRICS - World Bank Indicator](https://www.kaggle.com/arslanali4343/real-estate-dataset)"
   ]
  },
  {
   "cell_type": "code",
   "execution_count": 1,
   "metadata": {},
   "outputs": [],
   "source": [
    "import pandas as pd\n",
    "import numpy as np\n",
    "import matplotlib.pyplot as plt"
   ]
  },
  {
   "cell_type": "markdown",
   "metadata": {},
   "source": [
    "### 1) Importando os datasets e abrindo para ver o conteúdo:"
   ]
  },
  {
   "cell_type": "code",
   "execution_count": 2,
   "metadata": {},
   "outputs": [],
   "source": [
    "df_economy = pd.read_csv('data/BRICS Development Indicators/Economy_Data.csv', sep= ';')\n",
    "df_private_sector = pd.read_csv('data/BRICS Development Indicators/PrivateSector_Data.csv', sep=';')\n",
    "df_public_sector = pd.read_csv('data/BRICS Development Indicators/PublicSector_Indicators.csv', sep=';')"
   ]
  },
  {
   "cell_type": "markdown",
   "metadata": {},
   "source": [
    "### a) ECONOMY dataset information:\n",
    "- count: 86500\n",
    "- valores nulos? SIM\n",
    "- linhas completas: 60348 ( depois do `dropna` )"
   ]
  },
  {
   "cell_type": "code",
   "execution_count": 3,
   "metadata": {},
   "outputs": [
    {
     "data": {
      "text/html": [
       "<div>\n",
       "<style scoped>\n",
       "    .dataframe tbody tr th:only-of-type {\n",
       "        vertical-align: middle;\n",
       "    }\n",
       "\n",
       "    .dataframe tbody tr th {\n",
       "        vertical-align: top;\n",
       "    }\n",
       "\n",
       "    .dataframe thead th {\n",
       "        text-align: right;\n",
       "    }\n",
       "</style>\n",
       "<table border=\"1\" class=\"dataframe\">\n",
       "  <thead>\n",
       "    <tr style=\"text-align: right;\">\n",
       "      <th></th>\n",
       "      <th>SeriesName</th>\n",
       "      <th>SeriesCode</th>\n",
       "      <th>CountryName</th>\n",
       "      <th>CountryCode</th>\n",
       "      <th>Year</th>\n",
       "      <th>Value</th>\n",
       "    </tr>\n",
       "  </thead>\n",
       "  <tbody>\n",
       "    <tr>\n",
       "      <th>0</th>\n",
       "      <td>Adjusted net national income (annual % growth)</td>\n",
       "      <td>NY.ADJ.NNTY.KD.ZG</td>\n",
       "      <td>Brazil</td>\n",
       "      <td>BRA</td>\n",
       "      <td>1970.0</td>\n",
       "      <td>NaN</td>\n",
       "    </tr>\n",
       "    <tr>\n",
       "      <th>1</th>\n",
       "      <td>Adjusted net national income (annual % growth)</td>\n",
       "      <td>NY.ADJ.NNTY.KD.ZG</td>\n",
       "      <td>China</td>\n",
       "      <td>CHN</td>\n",
       "      <td>1970.0</td>\n",
       "      <td>NaN</td>\n",
       "    </tr>\n",
       "    <tr>\n",
       "      <th>2</th>\n",
       "      <td>Adjusted net national income (annual % growth)</td>\n",
       "      <td>NY.ADJ.NNTY.KD.ZG</td>\n",
       "      <td>India</td>\n",
       "      <td>IND</td>\n",
       "      <td>1970.0</td>\n",
       "      <td>NaN</td>\n",
       "    </tr>\n",
       "    <tr>\n",
       "      <th>3</th>\n",
       "      <td>Adjusted net national income (annual % growth)</td>\n",
       "      <td>NY.ADJ.NNTY.KD.ZG</td>\n",
       "      <td>Russian Federation</td>\n",
       "      <td>RUS</td>\n",
       "      <td>1970.0</td>\n",
       "      <td>NaN</td>\n",
       "    </tr>\n",
       "    <tr>\n",
       "      <th>4</th>\n",
       "      <td>Adjusted net national income (annual % growth)</td>\n",
       "      <td>NY.ADJ.NNTY.KD.ZG</td>\n",
       "      <td>South Africa</td>\n",
       "      <td>ZAF</td>\n",
       "      <td>1970.0</td>\n",
       "      <td>NaN</td>\n",
       "    </tr>\n",
       "  </tbody>\n",
       "</table>\n",
       "</div>"
      ],
      "text/plain": [
       "                                       SeriesName         SeriesCode  \\\n",
       "0  Adjusted net national income (annual % growth)  NY.ADJ.NNTY.KD.ZG   \n",
       "1  Adjusted net national income (annual % growth)  NY.ADJ.NNTY.KD.ZG   \n",
       "2  Adjusted net national income (annual % growth)  NY.ADJ.NNTY.KD.ZG   \n",
       "3  Adjusted net national income (annual % growth)  NY.ADJ.NNTY.KD.ZG   \n",
       "4  Adjusted net national income (annual % growth)  NY.ADJ.NNTY.KD.ZG   \n",
       "\n",
       "          CountryName CountryCode    Year  Value  \n",
       "0              Brazil         BRA  1970.0    NaN  \n",
       "1               China         CHN  1970.0    NaN  \n",
       "2               India         IND  1970.0    NaN  \n",
       "3  Russian Federation         RUS  1970.0    NaN  \n",
       "4        South Africa         ZAF  1970.0    NaN  "
      ]
     },
     "execution_count": 3,
     "metadata": {},
     "output_type": "execute_result"
    }
   ],
   "source": [
    "df_economy.head()"
   ]
  },
  {
   "cell_type": "code",
   "execution_count": 4,
   "metadata": {},
   "outputs": [
    {
     "data": {
      "text/plain": [
       "SeriesName       150\n",
       "SeriesCode       250\n",
       "CountryName      250\n",
       "CountryCode      250\n",
       "Year               0\n",
       "Value          26152\n",
       "dtype: int64"
      ]
     },
     "execution_count": 4,
     "metadata": {},
     "output_type": "execute_result"
    }
   ],
   "source": [
    "df_economy.isnull().sum()"
   ]
  },
  {
   "cell_type": "code",
   "execution_count": 5,
   "metadata": {},
   "outputs": [
    {
     "data": {
      "text/html": [
       "<div>\n",
       "<style scoped>\n",
       "    .dataframe tbody tr th:only-of-type {\n",
       "        vertical-align: middle;\n",
       "    }\n",
       "\n",
       "    .dataframe tbody tr th {\n",
       "        vertical-align: top;\n",
       "    }\n",
       "\n",
       "    .dataframe thead th {\n",
       "        text-align: right;\n",
       "    }\n",
       "</style>\n",
       "<table border=\"1\" class=\"dataframe\">\n",
       "  <thead>\n",
       "    <tr style=\"text-align: right;\">\n",
       "      <th></th>\n",
       "      <th>Year</th>\n",
       "      <th>Value</th>\n",
       "    </tr>\n",
       "  </thead>\n",
       "  <tbody>\n",
       "    <tr>\n",
       "      <th>count</th>\n",
       "      <td>86500.000000</td>\n",
       "      <td>6.034800e+04</td>\n",
       "    </tr>\n",
       "    <tr>\n",
       "      <th>mean</th>\n",
       "      <td>1994.500000</td>\n",
       "      <td>1.567603e+12</td>\n",
       "    </tr>\n",
       "    <tr>\n",
       "      <th>std</th>\n",
       "      <td>14.430953</td>\n",
       "      <td>8.948589e+12</td>\n",
       "    </tr>\n",
       "    <tr>\n",
       "      <th>min</th>\n",
       "      <td>1970.000000</td>\n",
       "      <td>-7.018725e+12</td>\n",
       "    </tr>\n",
       "    <tr>\n",
       "      <th>25%</th>\n",
       "      <td>1982.000000</td>\n",
       "      <td>1.336501e+01</td>\n",
       "    </tr>\n",
       "    <tr>\n",
       "      <th>50%</th>\n",
       "      <td>1994.500000</td>\n",
       "      <td>3.354500e+07</td>\n",
       "    </tr>\n",
       "    <tr>\n",
       "      <th>75%</th>\n",
       "      <td>2007.000000</td>\n",
       "      <td>8.238063e+10</td>\n",
       "    </tr>\n",
       "    <tr>\n",
       "      <th>max</th>\n",
       "      <td>2019.000000</td>\n",
       "      <td>2.083713e+14</td>\n",
       "    </tr>\n",
       "  </tbody>\n",
       "</table>\n",
       "</div>"
      ],
      "text/plain": [
       "               Year         Value\n",
       "count  86500.000000  6.034800e+04\n",
       "mean    1994.500000  1.567603e+12\n",
       "std       14.430953  8.948589e+12\n",
       "min     1970.000000 -7.018725e+12\n",
       "25%     1982.000000  1.336501e+01\n",
       "50%     1994.500000  3.354500e+07\n",
       "75%     2007.000000  8.238063e+10\n",
       "max     2019.000000  2.083713e+14"
      ]
     },
     "execution_count": 5,
     "metadata": {},
     "output_type": "execute_result"
    }
   ],
   "source": [
    "df_economy.describe()"
   ]
  },
  {
   "cell_type": "code",
   "execution_count": 6,
   "metadata": {},
   "outputs": [],
   "source": [
    "# removendo qualquer linha duplicada e linhas que contém valores nulos\n",
    "df_economy = df_economy.drop_duplicates().dropna()"
   ]
  },
  {
   "cell_type": "markdown",
   "metadata": {},
   "source": [
    "### b) PRIVATE SETOR dataset information:\n",
    "- count: 42250\n",
    "- valores nulos? SIM\n",
    "- linhas completas: 17420"
   ]
  },
  {
   "cell_type": "code",
   "execution_count": 7,
   "metadata": {},
   "outputs": [
    {
     "data": {
      "text/html": [
       "<div>\n",
       "<style scoped>\n",
       "    .dataframe tbody tr th:only-of-type {\n",
       "        vertical-align: middle;\n",
       "    }\n",
       "\n",
       "    .dataframe tbody tr th {\n",
       "        vertical-align: top;\n",
       "    }\n",
       "\n",
       "    .dataframe thead th {\n",
       "        text-align: right;\n",
       "    }\n",
       "</style>\n",
       "<table border=\"1\" class=\"dataframe\">\n",
       "  <thead>\n",
       "    <tr style=\"text-align: right;\">\n",
       "      <th></th>\n",
       "      <th>SeriesName</th>\n",
       "      <th>SeriesCode</th>\n",
       "      <th>CountryName</th>\n",
       "      <th>CountryCode</th>\n",
       "      <th>Year</th>\n",
       "      <th>Value</th>\n",
       "    </tr>\n",
       "  </thead>\n",
       "  <tbody>\n",
       "    <tr>\n",
       "      <th>0</th>\n",
       "      <td>Agricultural raw materials exports (% of merch...</td>\n",
       "      <td>TX.VAL.AGRI.ZS.UN</td>\n",
       "      <td>Brazil</td>\n",
       "      <td>BRA</td>\n",
       "      <td>1970.0</td>\n",
       "      <td>11.895098</td>\n",
       "    </tr>\n",
       "    <tr>\n",
       "      <th>1</th>\n",
       "      <td>Agricultural raw materials exports (% of merch...</td>\n",
       "      <td>TX.VAL.AGRI.ZS.UN</td>\n",
       "      <td>China</td>\n",
       "      <td>CHN</td>\n",
       "      <td>1970.0</td>\n",
       "      <td>NaN</td>\n",
       "    </tr>\n",
       "    <tr>\n",
       "      <th>2</th>\n",
       "      <td>Agricultural raw materials exports (% of merch...</td>\n",
       "      <td>TX.VAL.AGRI.ZS.UN</td>\n",
       "      <td>India</td>\n",
       "      <td>IND</td>\n",
       "      <td>1970.0</td>\n",
       "      <td>5.556494</td>\n",
       "    </tr>\n",
       "    <tr>\n",
       "      <th>3</th>\n",
       "      <td>Agricultural raw materials exports (% of merch...</td>\n",
       "      <td>TX.VAL.AGRI.ZS.UN</td>\n",
       "      <td>Russian Federation</td>\n",
       "      <td>RUS</td>\n",
       "      <td>1970.0</td>\n",
       "      <td>NaN</td>\n",
       "    </tr>\n",
       "    <tr>\n",
       "      <th>4</th>\n",
       "      <td>Agricultural raw materials exports (% of merch...</td>\n",
       "      <td>TX.VAL.AGRI.ZS.UN</td>\n",
       "      <td>South Africa</td>\n",
       "      <td>ZAF</td>\n",
       "      <td>1970.0</td>\n",
       "      <td>NaN</td>\n",
       "    </tr>\n",
       "  </tbody>\n",
       "</table>\n",
       "</div>"
      ],
      "text/plain": [
       "                                          SeriesName         SeriesCode  \\\n",
       "0  Agricultural raw materials exports (% of merch...  TX.VAL.AGRI.ZS.UN   \n",
       "1  Agricultural raw materials exports (% of merch...  TX.VAL.AGRI.ZS.UN   \n",
       "2  Agricultural raw materials exports (% of merch...  TX.VAL.AGRI.ZS.UN   \n",
       "3  Agricultural raw materials exports (% of merch...  TX.VAL.AGRI.ZS.UN   \n",
       "4  Agricultural raw materials exports (% of merch...  TX.VAL.AGRI.ZS.UN   \n",
       "\n",
       "          CountryName CountryCode    Year      Value  \n",
       "0              Brazil         BRA  1970.0  11.895098  \n",
       "1               China         CHN  1970.0        NaN  \n",
       "2               India         IND  1970.0   5.556494  \n",
       "3  Russian Federation         RUS  1970.0        NaN  \n",
       "4        South Africa         ZAF  1970.0        NaN  "
      ]
     },
     "execution_count": 7,
     "metadata": {},
     "output_type": "execute_result"
    }
   ],
   "source": [
    "df_private_sector.head()"
   ]
  },
  {
   "cell_type": "code",
   "execution_count": 8,
   "metadata": {},
   "outputs": [
    {
     "data": {
      "text/plain": [
       "SeriesName       150\n",
       "SeriesCode       250\n",
       "CountryName      250\n",
       "CountryCode      250\n",
       "Year               0\n",
       "Value          24830\n",
       "dtype: int64"
      ]
     },
     "execution_count": 8,
     "metadata": {},
     "output_type": "execute_result"
    }
   ],
   "source": [
    "df_private_sector.isnull().sum()"
   ]
  },
  {
   "cell_type": "code",
   "execution_count": 9,
   "metadata": {},
   "outputs": [
    {
     "data": {
      "text/html": [
       "<div>\n",
       "<style scoped>\n",
       "    .dataframe tbody tr th:only-of-type {\n",
       "        vertical-align: middle;\n",
       "    }\n",
       "\n",
       "    .dataframe tbody tr th {\n",
       "        vertical-align: top;\n",
       "    }\n",
       "\n",
       "    .dataframe thead th {\n",
       "        text-align: right;\n",
       "    }\n",
       "</style>\n",
       "<table border=\"1\" class=\"dataframe\">\n",
       "  <thead>\n",
       "    <tr style=\"text-align: right;\">\n",
       "      <th></th>\n",
       "      <th>Year</th>\n",
       "      <th>Value</th>\n",
       "    </tr>\n",
       "  </thead>\n",
       "  <tbody>\n",
       "    <tr>\n",
       "      <th>count</th>\n",
       "      <td>42250.00000</td>\n",
       "      <td>1.742000e+04</td>\n",
       "    </tr>\n",
       "    <tr>\n",
       "      <th>mean</th>\n",
       "      <td>1994.50000</td>\n",
       "      <td>1.159949e+10</td>\n",
       "    </tr>\n",
       "    <tr>\n",
       "      <th>std</th>\n",
       "      <td>14.43104</td>\n",
       "      <td>1.057388e+11</td>\n",
       "    </tr>\n",
       "    <tr>\n",
       "      <th>min</th>\n",
       "      <td>1970.00000</td>\n",
       "      <td>0.000000e+00</td>\n",
       "    </tr>\n",
       "    <tr>\n",
       "      <th>25%</th>\n",
       "      <td>1982.00000</td>\n",
       "      <td>4.474096e+00</td>\n",
       "    </tr>\n",
       "    <tr>\n",
       "      <th>50%</th>\n",
       "      <td>1994.50000</td>\n",
       "      <td>1.660000e+01</td>\n",
       "    </tr>\n",
       "    <tr>\n",
       "      <th>75%</th>\n",
       "      <td>2007.00000</td>\n",
       "      <td>8.529821e+01</td>\n",
       "    </tr>\n",
       "    <tr>\n",
       "      <th>max</th>\n",
       "      <td>2019.00000</td>\n",
       "      <td>2.501330e+12</td>\n",
       "    </tr>\n",
       "  </tbody>\n",
       "</table>\n",
       "</div>"
      ],
      "text/plain": [
       "              Year         Value\n",
       "count  42250.00000  1.742000e+04\n",
       "mean    1994.50000  1.159949e+10\n",
       "std       14.43104  1.057388e+11\n",
       "min     1970.00000  0.000000e+00\n",
       "25%     1982.00000  4.474096e+00\n",
       "50%     1994.50000  1.660000e+01\n",
       "75%     2007.00000  8.529821e+01\n",
       "max     2019.00000  2.501330e+12"
      ]
     },
     "execution_count": 9,
     "metadata": {},
     "output_type": "execute_result"
    }
   ],
   "source": [
    "df_private_sector.describe()"
   ]
  },
  {
   "cell_type": "code",
   "execution_count": 10,
   "metadata": {},
   "outputs": [],
   "source": [
    "# removendo linhas duplicada e linhas que contém valores nulos\n",
    "df_private_sector = df_private_sector.drop_duplicates().dropna()"
   ]
  },
  {
   "cell_type": "markdown",
   "metadata": {},
   "source": [
    "### c) PUBLIC SECTOR dataset information:\n",
    "- count: 81500\n",
    "- valores nulos? SIM\n",
    "- linhas completas: 26838"
   ]
  },
  {
   "cell_type": "code",
   "execution_count": 11,
   "metadata": {},
   "outputs": [
    {
     "data": {
      "text/html": [
       "<div>\n",
       "<style scoped>\n",
       "    .dataframe tbody tr th:only-of-type {\n",
       "        vertical-align: middle;\n",
       "    }\n",
       "\n",
       "    .dataframe tbody tr th {\n",
       "        vertical-align: top;\n",
       "    }\n",
       "\n",
       "    .dataframe thead th {\n",
       "        text-align: right;\n",
       "    }\n",
       "</style>\n",
       "<table border=\"1\" class=\"dataframe\">\n",
       "  <thead>\n",
       "    <tr style=\"text-align: right;\">\n",
       "      <th></th>\n",
       "      <th>SeriesName</th>\n",
       "      <th>SeriesCode</th>\n",
       "      <th>CountryName</th>\n",
       "      <th>CountryCode</th>\n",
       "      <th>Year</th>\n",
       "      <th>Value</th>\n",
       "    </tr>\n",
       "  </thead>\n",
       "  <tbody>\n",
       "    <tr>\n",
       "      <th>0</th>\n",
       "      <td>Adequacy of social insurance programs (% of to...</td>\n",
       "      <td>per_si_allsi.adq_pop_tot</td>\n",
       "      <td>Brazil</td>\n",
       "      <td>BRA</td>\n",
       "      <td>1970.0</td>\n",
       "      <td>NaN</td>\n",
       "    </tr>\n",
       "    <tr>\n",
       "      <th>1</th>\n",
       "      <td>Adequacy of social insurance programs (% of to...</td>\n",
       "      <td>per_si_allsi.adq_pop_tot</td>\n",
       "      <td>China</td>\n",
       "      <td>CHN</td>\n",
       "      <td>1970.0</td>\n",
       "      <td>NaN</td>\n",
       "    </tr>\n",
       "    <tr>\n",
       "      <th>2</th>\n",
       "      <td>Adequacy of social insurance programs (% of to...</td>\n",
       "      <td>per_si_allsi.adq_pop_tot</td>\n",
       "      <td>India</td>\n",
       "      <td>IND</td>\n",
       "      <td>1970.0</td>\n",
       "      <td>NaN</td>\n",
       "    </tr>\n",
       "    <tr>\n",
       "      <th>3</th>\n",
       "      <td>Adequacy of social insurance programs (% of to...</td>\n",
       "      <td>per_si_allsi.adq_pop_tot</td>\n",
       "      <td>Russian Federation</td>\n",
       "      <td>RUS</td>\n",
       "      <td>1970.0</td>\n",
       "      <td>NaN</td>\n",
       "    </tr>\n",
       "    <tr>\n",
       "      <th>4</th>\n",
       "      <td>Adequacy of social insurance programs (% of to...</td>\n",
       "      <td>per_si_allsi.adq_pop_tot</td>\n",
       "      <td>South Africa</td>\n",
       "      <td>ZAF</td>\n",
       "      <td>1970.0</td>\n",
       "      <td>NaN</td>\n",
       "    </tr>\n",
       "  </tbody>\n",
       "</table>\n",
       "</div>"
      ],
      "text/plain": [
       "                                          SeriesName  \\\n",
       "0  Adequacy of social insurance programs (% of to...   \n",
       "1  Adequacy of social insurance programs (% of to...   \n",
       "2  Adequacy of social insurance programs (% of to...   \n",
       "3  Adequacy of social insurance programs (% of to...   \n",
       "4  Adequacy of social insurance programs (% of to...   \n",
       "\n",
       "                 SeriesCode         CountryName CountryCode    Year  Value  \n",
       "0  per_si_allsi.adq_pop_tot              Brazil         BRA  1970.0    NaN  \n",
       "1  per_si_allsi.adq_pop_tot               China         CHN  1970.0    NaN  \n",
       "2  per_si_allsi.adq_pop_tot               India         IND  1970.0    NaN  \n",
       "3  per_si_allsi.adq_pop_tot  Russian Federation         RUS  1970.0    NaN  \n",
       "4  per_si_allsi.adq_pop_tot        South Africa         ZAF  1970.0    NaN  "
      ]
     },
     "execution_count": 11,
     "metadata": {},
     "output_type": "execute_result"
    }
   ],
   "source": [
    "df_public_sector.head()"
   ]
  },
  {
   "cell_type": "code",
   "execution_count": 12,
   "metadata": {},
   "outputs": [
    {
     "data": {
      "text/plain": [
       "SeriesName       150\n",
       "SeriesCode       250\n",
       "CountryName      250\n",
       "CountryCode      250\n",
       "Year               0\n",
       "Value          54662\n",
       "dtype: int64"
      ]
     },
     "execution_count": 12,
     "metadata": {},
     "output_type": "execute_result"
    }
   ],
   "source": [
    "df_public_sector.isnull().sum()"
   ]
  },
  {
   "cell_type": "code",
   "execution_count": 13,
   "metadata": {},
   "outputs": [
    {
     "data": {
      "text/html": [
       "<div>\n",
       "<style scoped>\n",
       "    .dataframe tbody tr th:only-of-type {\n",
       "        vertical-align: middle;\n",
       "    }\n",
       "\n",
       "    .dataframe tbody tr th {\n",
       "        vertical-align: top;\n",
       "    }\n",
       "\n",
       "    .dataframe thead th {\n",
       "        text-align: right;\n",
       "    }\n",
       "</style>\n",
       "<table border=\"1\" class=\"dataframe\">\n",
       "  <thead>\n",
       "    <tr style=\"text-align: right;\">\n",
       "      <th></th>\n",
       "      <th>Year</th>\n",
       "      <th>Value</th>\n",
       "    </tr>\n",
       "  </thead>\n",
       "  <tbody>\n",
       "    <tr>\n",
       "      <th>count</th>\n",
       "      <td>81500.000000</td>\n",
       "      <td>2.683800e+04</td>\n",
       "    </tr>\n",
       "    <tr>\n",
       "      <th>mean</th>\n",
       "      <td>1994.500000</td>\n",
       "      <td>1.302336e+11</td>\n",
       "    </tr>\n",
       "    <tr>\n",
       "      <th>std</th>\n",
       "      <td>14.430958</td>\n",
       "      <td>1.266955e+12</td>\n",
       "    </tr>\n",
       "    <tr>\n",
       "      <th>min</th>\n",
       "      <td>1970.000000</td>\n",
       "      <td>-4.567250e+12</td>\n",
       "    </tr>\n",
       "    <tr>\n",
       "      <th>25%</th>\n",
       "      <td>1982.000000</td>\n",
       "      <td>1.010542e+01</td>\n",
       "    </tr>\n",
       "    <tr>\n",
       "      <th>50%</th>\n",
       "      <td>1994.500000</td>\n",
       "      <td>4.312820e+01</td>\n",
       "    </tr>\n",
       "    <tr>\n",
       "      <th>75%</th>\n",
       "      <td>2007.000000</td>\n",
       "      <td>5.883250e+03</td>\n",
       "    </tr>\n",
       "    <tr>\n",
       "      <th>max</th>\n",
       "      <td>2019.000000</td>\n",
       "      <td>5.651790e+13</td>\n",
       "    </tr>\n",
       "  </tbody>\n",
       "</table>\n",
       "</div>"
      ],
      "text/plain": [
       "               Year         Value\n",
       "count  81500.000000  2.683800e+04\n",
       "mean    1994.500000  1.302336e+11\n",
       "std       14.430958  1.266955e+12\n",
       "min     1970.000000 -4.567250e+12\n",
       "25%     1982.000000  1.010542e+01\n",
       "50%     1994.500000  4.312820e+01\n",
       "75%     2007.000000  5.883250e+03\n",
       "max     2019.000000  5.651790e+13"
      ]
     },
     "execution_count": 13,
     "metadata": {},
     "output_type": "execute_result"
    }
   ],
   "source": [
    "df_public_sector.describe()"
   ]
  },
  {
   "cell_type": "code",
   "execution_count": 14,
   "metadata": {},
   "outputs": [],
   "source": [
    "# removendo linhas duplicadas e linhas com valores nulos\n",
    "df_public_sector = df_public_sector.drop_duplicates().dropna()"
   ]
  },
  {
   "cell_type": "markdown",
   "metadata": {},
   "source": [
    "## 2) Agrupando os paises \n",
    "### a) usando o dataset ECONOMY"
   ]
  },
  {
   "cell_type": "code",
   "execution_count": 15,
   "metadata": {},
   "outputs": [
    {
     "data": {
      "text/html": [
       "<div>\n",
       "<style scoped>\n",
       "    .dataframe tbody tr th:only-of-type {\n",
       "        vertical-align: middle;\n",
       "    }\n",
       "\n",
       "    .dataframe tbody tr th {\n",
       "        vertical-align: top;\n",
       "    }\n",
       "\n",
       "    .dataframe thead th {\n",
       "        text-align: right;\n",
       "    }\n",
       "</style>\n",
       "<table border=\"1\" class=\"dataframe\">\n",
       "  <thead>\n",
       "    <tr style=\"text-align: right;\">\n",
       "      <th></th>\n",
       "      <th>Value</th>\n",
       "    </tr>\n",
       "    <tr>\n",
       "      <th>CountryCode</th>\n",
       "      <th></th>\n",
       "    </tr>\n",
       "  </thead>\n",
       "  <tbody>\n",
       "    <tr>\n",
       "      <th>BRA</th>\n",
       "      <td>3.171796e+15</td>\n",
       "    </tr>\n",
       "    <tr>\n",
       "      <th>CHN</th>\n",
       "      <td>1.811189e+16</td>\n",
       "    </tr>\n",
       "    <tr>\n",
       "      <th>IND</th>\n",
       "      <td>4.218353e+16</td>\n",
       "    </tr>\n",
       "    <tr>\n",
       "      <th>RUS</th>\n",
       "      <td>2.935328e+16</td>\n",
       "    </tr>\n",
       "    <tr>\n",
       "      <th>ZAF</th>\n",
       "      <td>1.781179e+15</td>\n",
       "    </tr>\n",
       "  </tbody>\n",
       "</table>\n",
       "</div>"
      ],
      "text/plain": [
       "                    Value\n",
       "CountryCode              \n",
       "BRA          3.171796e+15\n",
       "CHN          1.811189e+16\n",
       "IND          4.218353e+16\n",
       "RUS          2.935328e+16\n",
       "ZAF          1.781179e+15"
      ]
     },
     "execution_count": 15,
     "metadata": {},
     "output_type": "execute_result"
    }
   ],
   "source": [
    "df_economy.groupby(by='CountryCode').sum().drop(columns=['Year'])\n"
   ]
  },
  {
   "cell_type": "markdown",
   "metadata": {},
   "source": [
    "### * Temos informações ECONÔMICAS de apenas 5 países\n",
    "\n",
    "## Plotando os gráficos dos valores de cada país ao longo dos anos:"
   ]
  },
  {
   "cell_type": "code",
   "execution_count": 16,
   "metadata": {},
   "outputs": [
    {
     "data": {
      "text/plain": [
       "<AxesSubplot:title={'center':'ECONOMY - SOUTH AFRICA'}, xlabel='Year'>"
      ]
     },
     "execution_count": 16,
     "metadata": {},
     "output_type": "execute_result"
    },
    {
     "data": {
      "image/png": "[encoded data removed]",
      "text/plain": [
       "<Figure size 720x576 with 6 Axes>"
      ]
     },
     "metadata": {
      "needs_background": "light"
     },
     "output_type": "display_data"
    }
   ],
   "source": [
    "# definindo as configurações dos graficos na mesma página e tamanho da figura\n",
    "fig, ax = plt.subplots(2, 3, figsize=(20, 12))\n",
    "\n",
    "# plotando as informações de todos os paises de todos os anos\n",
    "df_economy.plot(x='Year', y='Value', title='ECONOMY - ALL', figsize=(10,8), ax=ax[0,0], legend=False)\n",
    "\n",
    "# Plotando o gráfico linear dos valores economicos do BRASIL\n",
    "df_economy[df_economy['CountryCode']=='BRA'].plot(x='Year', y='Value', title='ECONOMY - BRASIL', ax=ax[0, 1], legend=False)\n",
    "\n",
    "# Plotando o gráfico linear dos valores economicos da CHINA\n",
    "df_economy[df_economy['CountryCode']=='CHN'].plot(x='Year', y='Value', title='ECONOMY - CHINA', ax=ax[0, 2], legend=False)\n",
    "\n",
    "# Plotando o gráfico linear dos valores economicos do INDIA\n",
    "df_economy[df_economy['CountryCode']=='IND'].plot(x='Year', y='Value', title='ECONOMY - INDIA', ax=ax[1, 0], legend=False)\n",
    "\n",
    "# Plotando o gráfico linear dos valores economicos da RUSSIA\n",
    "df_economy[df_economy['CountryCode']=='RUS'].plot(x='Year', y='Value', title='ECONOMY - RUSSIA', ax=ax[1, 1], legend=False)\n",
    "\n",
    "# Plotando o gráfico linear dos valores economicos da SOUTH AFRICA\t\n",
    "df_economy[df_economy['CountryCode']=='ZAF'].plot(x='Year', y='Value', title='ECONOMY - SOUTH AFRICA', ax=ax[1, 2], legend=False)"
   ]
  },
  {
   "cell_type": "markdown",
   "metadata": {},
   "source": [
    "## -  Os gráficos nos mostram que: \n",
    "- no geral, os países tiveram um crescimento quase exponencial ao longo dos anos;\n",
    "- RUSSIA: apresentou uma queda próximo do ano 2000, mas depois voltou a crescer;\n",
    "- BRASIL, CHINA, INDIA e AFRICA DO SUL: Alavancaram após os anos 2000."
   ]
  },
  {
   "cell_type": "markdown",
   "metadata": {},
   "source": [
    "### b) usando o dataset PRIVATE SECTOR"
   ]
  },
  {
   "cell_type": "code",
   "execution_count": 17,
   "metadata": {},
   "outputs": [
    {
     "data": {
      "text/html": [
       "<div>\n",
       "<style scoped>\n",
       "    .dataframe tbody tr th:only-of-type {\n",
       "        vertical-align: middle;\n",
       "    }\n",
       "\n",
       "    .dataframe tbody tr th {\n",
       "        vertical-align: top;\n",
       "    }\n",
       "\n",
       "    .dataframe thead th {\n",
       "        text-align: right;\n",
       "    }\n",
       "</style>\n",
       "<table border=\"1\" class=\"dataframe\">\n",
       "  <thead>\n",
       "    <tr style=\"text-align: right;\">\n",
       "      <th></th>\n",
       "      <th>Value</th>\n",
       "    </tr>\n",
       "    <tr>\n",
       "      <th>CountryCode</th>\n",
       "      <th></th>\n",
       "    </tr>\n",
       "  </thead>\n",
       "  <tbody>\n",
       "    <tr>\n",
       "      <th>BRA</th>\n",
       "      <td>1.835112e+13</td>\n",
       "    </tr>\n",
       "    <tr>\n",
       "      <th>CHN</th>\n",
       "      <td>1.229084e+14</td>\n",
       "    </tr>\n",
       "    <tr>\n",
       "      <th>IND</th>\n",
       "      <td>2.601728e+13</td>\n",
       "    </tr>\n",
       "    <tr>\n",
       "      <th>RUS</th>\n",
       "      <td>2.611897e+13</td>\n",
       "    </tr>\n",
       "    <tr>\n",
       "      <th>ZAF</th>\n",
       "      <td>8.667364e+12</td>\n",
       "    </tr>\n",
       "  </tbody>\n",
       "</table>\n",
       "</div>"
      ],
      "text/plain": [
       "                    Value\n",
       "CountryCode              \n",
       "BRA          1.835112e+13\n",
       "CHN          1.229084e+14\n",
       "IND          2.601728e+13\n",
       "RUS          2.611897e+13\n",
       "ZAF          8.667364e+12"
      ]
     },
     "execution_count": 17,
     "metadata": {},
     "output_type": "execute_result"
    }
   ],
   "source": [
    "df_private_sector.groupby(by='CountryCode').sum().drop(columns=['Year'])"
   ]
  },
  {
   "cell_type": "code",
   "execution_count": 18,
   "metadata": {},
   "outputs": [
    {
     "data": {
      "text/plain": [
       "<AxesSubplot:title={'center':'PRIVATE SECTOR - SOUTH AFRICA'}, xlabel='Year'>"
      ]
     },
     "execution_count": 18,
     "metadata": {},
     "output_type": "execute_result"
    },
    {
     "data": {
      "image/png": "[encoded data removed]",
      "text/plain": [
       "<Figure size 720x576 with 6 Axes>"
      ]
     },
     "metadata": {
      "needs_background": "light"
     },
     "output_type": "display_data"
    }
   ],
   "source": [
    "# definindo as configurações dos graficos na mesma página e tamanho da figura\n",
    "fig, ax = plt.subplots(2, 3, figsize=(20, 12))\n",
    "\n",
    "# plotando as informações de todos os paises de todos os anos\n",
    "df_private_sector.plot(x='Year', y='Value', title='PRIVATE SECTOR - ALL', figsize=(10,8), ax=ax[0,0], legend=False)\n",
    "\n",
    "# Plotando o gráfico linear dos valores economicos do BRASIL\n",
    "df_private_sector[df_private_sector['CountryCode']=='BRA'].plot(x='Year', \n",
    "                                                                y='Value', title='PRIVATE SECTOR - BRASIL', ax=ax[0, 1], \n",
    "                                                                legend=False)\n",
    "\n",
    "# Plotando o gráfico linear dos valores economicos da CHINA\n",
    "df_private_sector[df_private_sector['CountryCode']=='CHN'].plot(x='Year', \n",
    "                                                                y='Value', title='PRIVATE SECTOR - CHINA', ax=ax[0, 2], \n",
    "                                                                legend=False)\n",
    "\n",
    "# Plotando o gráfico linear dos valores economicos do INDIA\n",
    "df_private_sector[df_private_sector['CountryCode']=='IND'].plot(x='Year', \n",
    "                                                                y='Value', title='PRIVATE SECTOR - INDIA', ax=ax[1, 0], \n",
    "                                                                legend=False)\n",
    "\n",
    "# Plotando o gráfico linear dos valores economicos da RUSSIA\n",
    "df_private_sector[df_private_sector['CountryCode']=='RUS'].plot(x='Year', \n",
    "                                                                y='Value', title='PRIVATE SECTOR - RUSSIA', ax=ax[1, 1], \n",
    "                                                                legend=False)\n",
    "\n",
    "# Plotando o gráfico linear dos valores economicos da SOUTH AFRICA\t\n",
    "df_private_sector[df_private_sector['CountryCode']=='ZAF'].plot(x='Year', \n",
    "                                                                y='Value', title='PRIVATE SECTOR - SOUTH AFRICA', ax=ax[1, 2], \n",
    "                                                                legend=False)"
   ]
  },
  {
   "cell_type": "markdown",
   "metadata": {},
   "source": [
    "## -  Os gráficos nos mostram que: \n",
    "- A tenência geral é crescente após 2000, mas com alguns baixos ao longo dos anos;\n",
    "- Russia não tem informações de antes de 1990, ou seja, menos que os outros países;"
   ]
  },
  {
   "cell_type": "markdown",
   "metadata": {},
   "source": [
    "### c) usando o dataset PUBLIC SECTOR"
   ]
  },
  {
   "cell_type": "code",
   "execution_count": 19,
   "metadata": {},
   "outputs": [
    {
     "data": {
      "text/html": [
       "<div>\n",
       "<style scoped>\n",
       "    .dataframe tbody tr th:only-of-type {\n",
       "        vertical-align: middle;\n",
       "    }\n",
       "\n",
       "    .dataframe tbody tr th {\n",
       "        vertical-align: top;\n",
       "    }\n",
       "\n",
       "    .dataframe thead th {\n",
       "        text-align: right;\n",
       "    }\n",
       "</style>\n",
       "<table border=\"1\" class=\"dataframe\">\n",
       "  <thead>\n",
       "    <tr style=\"text-align: right;\">\n",
       "      <th></th>\n",
       "      <th>Value</th>\n",
       "    </tr>\n",
       "    <tr>\n",
       "      <th>CountryCode</th>\n",
       "      <th></th>\n",
       "    </tr>\n",
       "  </thead>\n",
       "  <tbody>\n",
       "    <tr>\n",
       "      <th>BRA</th>\n",
       "      <td>1.306499e+14</td>\n",
       "    </tr>\n",
       "    <tr>\n",
       "      <th>CHN</th>\n",
       "      <td>2.651023e+14</td>\n",
       "    </tr>\n",
       "    <tr>\n",
       "      <th>IND</th>\n",
       "      <td>1.645531e+15</td>\n",
       "    </tr>\n",
       "    <tr>\n",
       "      <th>RUS</th>\n",
       "      <td>1.361828e+15</td>\n",
       "    </tr>\n",
       "    <tr>\n",
       "      <th>ZAF</th>\n",
       "      <td>9.209841e+13</td>\n",
       "    </tr>\n",
       "  </tbody>\n",
       "</table>\n",
       "</div>"
      ],
      "text/plain": [
       "                    Value\n",
       "CountryCode              \n",
       "BRA          1.306499e+14\n",
       "CHN          2.651023e+14\n",
       "IND          1.645531e+15\n",
       "RUS          1.361828e+15\n",
       "ZAF          9.209841e+13"
      ]
     },
     "execution_count": 19,
     "metadata": {},
     "output_type": "execute_result"
    }
   ],
   "source": [
    "df_public_sector.groupby(by='CountryCode').sum().drop(columns=['Year'])"
   ]
  },
  {
   "cell_type": "code",
   "execution_count": 20,
   "metadata": {},
   "outputs": [
    {
     "data": {
      "text/plain": [
       "<AxesSubplot:title={'center':'PUBLIC SECTOR - SOUTH AFRICA'}, xlabel='Year'>"
      ]
     },
     "execution_count": 20,
     "metadata": {},
     "output_type": "execute_result"
    },
    {
     "data": {
      "image/png": "[encoded data removed]",
      "text/plain": [
       "<Figure size 720x576 with 6 Axes>"
      ]
     },
     "metadata": {
      "needs_background": "light"
     },
     "output_type": "display_data"
    }
   ],
   "source": [
    "# definindo as configurações dos graficos na mesma página e tamanho da figura\n",
    "fig, ax = plt.subplots(2, 3, figsize=(20, 12))\n",
    "\n",
    "# plotando as informações de todos os paises de todos os anos\n",
    "df_public_sector.plot(x='Year', y='Value', title='PUBLIC SECTOR - ALL', figsize=(10,8), ax=ax[0,0], legend=False)\n",
    "\n",
    "# Plotando o gráfico linear dos valores economicos do BRASIL\n",
    "df_public_sector[df_public_sector['CountryCode']=='BRA'].plot(x='Year', \n",
    "                                                                y='Value', title='PUBLIC SECTOR - BRASIL', ax=ax[0, 1], \n",
    "                                                                legend=False)\n",
    "\n",
    "# Plotando o gráfico linear dos valores economicos da CHINA\n",
    "df_public_sector[df_public_sector['CountryCode']=='CHN'].plot(x='Year', \n",
    "                                                                y='Value', title='PUBLIC SECTOR - CHINA', ax=ax[0, 2], \n",
    "                                                                legend=False)\n",
    "\n",
    "# Plotando o gráfico linear dos valores economicos do INDIA\n",
    "df_public_sector[df_public_sector['CountryCode']=='IND'].plot(x='Year', \n",
    "                                                                y='Value', title='PUBLIC SECTOR - INDIA', ax=ax[1, 0], \n",
    "                                                                legend=False)\n",
    "\n",
    "# Plotando o gráfico linear dos valores economicos da RUSSIA\n",
    "df_public_sector[df_public_sector['CountryCode']=='RUS'].plot(x='Year', \n",
    "                                                                y='Value', title='PUBLIC SECTOR - RUSSIA', ax=ax[1, 1], \n",
    "                                                                legend=False)\n",
    "\n",
    "# Plotando o gráfico linear dos valores economicos da SOUTH AFRICA\t\n",
    "df_public_sector[df_public_sector['CountryCode']=='ZAF'].plot(x='Year', \n",
    "                                                                y='Value', title='PUBLIC SECTOR - SOUTH AFRICA', ax=ax[1, 2], \n",
    "                                                                legend=False)"
   ]
  },
  {
   "cell_type": "markdown",
   "metadata": {},
   "source": [
    "## -  Os gráficos nos mostram que: \n",
    "- Para o setor publico, não temos informações de antes de 1990;\n",
    "- No geral, é observada a mesma tendência de crescimento após os anos 2000 em todos os países."
   ]
  },
  {
   "cell_type": "markdown",
   "metadata": {},
   "source": [
    "---"
   ]
  },
  {
   "cell_type": "code",
   "execution_count": null,
   "metadata": {},
   "outputs": [],
   "source": []
  }
 ],
 "metadata": {
  "kernelspec": {
   "display_name": "Python 3",
   "language": "python",
   "name": "python3"
  },
  "language_info": {
   "codemirror_mode": {
    "name": "ipython",
    "version": 3
   },
   "file_extension": ".py",
   "mimetype": "text/x-python",
   "name": "python",
   "nbconvert_exporter": "python",
   "pygments_lexer": "ipython3",
   "version": "3.8.10"
  }
 },
 "nbformat": 4,
 "nbformat_minor": 4
}
